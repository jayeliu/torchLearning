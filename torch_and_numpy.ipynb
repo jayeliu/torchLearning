{
 "cells": [
  {
   "cell_type": "code",
   "execution_count": 1,
   "metadata": {
    "collapsed": true
   },
   "outputs": [],
   "source": [
    "import torch\n",
    "import numpy as np"
   ]
  },
  {
   "cell_type": "code",
   "execution_count": 2,
   "outputs": [
    {
     "name": "stdout",
     "output_type": "stream",
     "text": [
      "\n",
      "numpy adday: [[0 1 2]\n",
      " [3 4 5]] \n",
      "torch data: tensor([[0, 1, 2],\n",
      "        [3, 4, 5]], dtype=torch.int32) \n",
      "tensor to aray: [[0 1 2]\n",
      " [3 4 5]]\n"
     ]
    }
   ],
   "source": [
    "np_data=np.arange(6).reshape((2,3))\n",
    "torch_data=torch.from_numpy(np_data)\n",
    "tensor2array=torch_data.numpy()\n",
    "print(\n",
    "    '\\nnumpy adday:',np_data,\n",
    "    '\\ntorch data:',torch_data,\n",
    "    '\\ntensor to aray:',tensor2array,\n",
    ")"
   ],
   "metadata": {
    "collapsed": false,
    "pycharm": {
     "name": "#%%\n"
    }
   }
  },
  {
   "cell_type": "code",
   "execution_count": 3,
   "outputs": [
    {
     "name": "stdout",
     "output_type": "stream",
     "text": [
      "\n",
      "abs \n",
      "numpy: [-1, -2, 1, 2] \n",
      "torch: tensor([-1., -2.,  1.,  2.])\n"
     ]
    }
   ],
   "source": [
    "data=[-1,-2,1,2]\n",
    "tensor=torch.FloatTensor(data)\n",
    "print(\n",
    "    '\\nabs',\n",
    "    '\\nnumpy:',data,\n",
    "    '\\ntorch:',tensor,\n",
    ")"
   ],
   "metadata": {
    "collapsed": false,
    "pycharm": {
     "name": "#%%\n"
    }
   }
  },
  {
   "cell_type": "code",
   "execution_count": 4,
   "outputs": [
    {
     "name": "stdout",
     "output_type": "stream",
     "text": [
      "\n",
      "sin \n",
      "numpy: [-0.84147098 -0.90929743  0.84147098  0.90929743] \n",
      "torch: tensor([-0.8415, -0.9093,  0.8415,  0.9093])\n"
     ]
    }
   ],
   "source": [
    "print(\n",
    "    '\\nsin',\n",
    "    '\\nnumpy:',np.sin(data),\n",
    "    '\\ntorch:',torch.sin(tensor)\n",
    ")\n"
   ],
   "metadata": {
    "collapsed": false,
    "pycharm": {
     "name": "#%%\n"
    }
   }
  },
  {
   "cell_type": "code",
   "execution_count": 5,
   "outputs": [
    {
     "name": "stdout",
     "output_type": "stream",
     "text": [
      "\n",
      "mean \n",
      "numpy: 0.0 \n",
      "torch: tensor(0.)\n"
     ]
    }
   ],
   "source": [
    "print(\n",
    "    '\\nmean',\n",
    "    '\\nnumpy:',np.mean(data),\n",
    "    '\\ntorch:',torch.mean(tensor)\n",
    ")"
   ],
   "metadata": {
    "collapsed": false,
    "pycharm": {
     "name": "#%%\n"
    }
   }
  },
  {
   "cell_type": "code",
   "execution_count": 6,
   "outputs": [
    {
     "name": "stdout",
     "output_type": "stream",
     "text": [
      "\n",
      "matrix matmul \n",
      "nunmpy: [[ 7 10]\n",
      " [15 22]] \n",
      "torch: tensor([[ 7., 10.],\n",
      "        [15., 22.]])\n"
     ]
    }
   ],
   "source": [
    "data=[[1,2],[3,4]]\n",
    "tensor=torch.FloatTensor(data)\n",
    "print(\n",
    "    '\\nmatrix matmul',\n",
    "    '\\nnunmpy:',np.matmul(data,data),\n",
    "    '\\ntorch:',torch.mm(tensor,tensor)\n",
    "    )"
   ],
   "metadata": {
    "collapsed": false,
    "pycharm": {
     "name": "#%%\n"
    }
   }
  },
  {
   "cell_type": "code",
   "execution_count": 16,
   "outputs": [
    {
     "name": "stdout",
     "output_type": "stream",
     "text": [
      "torch.Size([4]) \n",
      "matrix dot \n",
      "numpy: [[ 7 10]\n",
      " [15 22]] \n",
      "torch: tensor(30.)\n"
     ]
    }
   ],
   "source": [
    "# 错误的方法\n",
    "data=np.array(data)\n",
    "tensor=tensor.squeeze(0)#降维处理\n",
    "print(\n",
    "    tensor.shape,\n",
    "    '\\nmatrix dot',\n",
    "    '\\nnumpy:',data.dot(data),\n",
    "    '\\ntorch:',tensor.dot(tensor)\n",
    ")"
   ],
   "metadata": {
    "collapsed": false,
    "pycharm": {
     "name": "#%%\n"
    }
   }
  }
 ],
 "metadata": {
  "kernelspec": {
   "display_name": "Python 3",
   "language": "python",
   "name": "python3"
  },
  "language_info": {
   "codemirror_mode": {
    "name": "ipython",
    "version": 2
   },
   "file_extension": ".py",
   "mimetype": "text/x-python",
   "name": "python",
   "nbconvert_exporter": "python",
   "pygments_lexer": "ipython2",
   "version": "2.7.6"
  }
 },
 "nbformat": 4,
 "nbformat_minor": 0
}